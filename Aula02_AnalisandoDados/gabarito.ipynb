{
 "cells": [
  {
   "cell_type": "markdown",
   "metadata": {},
   "source": [
    "# Python Insights - Analisando Dados com Python\n",
    "\n",
    "### Case - Cancelamento de Clientes\n",
    "\n",
    "Você foi contratado por uma empresa com mais de 800 mil clientes para um projeto de Dados. Recentemente a empresa percebeu que da sua base total de clientes, a maioria são clientes inativos, ou seja, que já cancelaram o serviço.\n",
    "\n",
    "Precisando melhorar seus resultados ela quer conseguir entender os principais motivos desses cancelamentos e quais as ações mais eficientes para reduzir esse número.\n",
    "\n",
    "Base de dados e arquivos: https://drive.google.com/drive/folders/1uDesZePdkhiraJmiyeZ-w5tfc8XsNYFZ?usp=drive_link"
   ]
  },
  {
   "cell_type": "code",
   "execution_count": null,
   "metadata": {},
   "outputs": [],
   "source": [
    "# Passo a passo\n",
    "# Passo 1: Importar base de dados\n",
    "# Passo 2: Visualizar base de dados\n",
    "# Passo 3: Corrigir cagadas da base de dados\n",
    "# Passo 4: Análise dos cancelamentos\n",
    "# Passo 5: Análise da causa dos cancelamentos (como as colunas impactam no cancelamento?)\n",
    "\n",
    "# !pip install pandas numpy openpyxl nbformat ipykernel plotly\n",
    "# Passo a passo do projeto\n",
    "# Passo 1: Importar a base de dados\n",
    "import pandas as pd\n",
    "\n",
    "tabela = pd.read_csv(\"cancelamentos_sample.csv\")\n",
    "\n",
    "# Passo 2: Visualizar a base de dados----------------------------------------\n",
    "\n",
    "# Removendo a coluna CustomerID, pois não é relevante para a análise\n",
    "tabela = tabela.drop(columns=\"CustomerID\")\n",
    "\n",
    "# Renomeando uma coluna\n",
    "tabela.rename(columns={'tempo_como_cliente': 'tempo_de_cliente'}, inplace=True)\n",
    "\n",
    "display(tabela)\n",
    "# colunas inúteis - informações que não te ajudam, te atrapalham\n",
    "# Procurar: Informações inúteis, informações erradas, campos vazios."
   ]
  },
  {
   "cell_type": "code",
   "execution_count": null,
   "metadata": {},
   "outputs": [],
   "source": []
  },
  {
   "cell_type": "code",
   "execution_count": 13,
   "metadata": {},
   "outputs": [
    {
     "name": "stdout",
     "output_type": "stream",
     "text": [
      "<class 'pandas.core.frame.DataFrame'>\n",
      "RangeIndex: 50000 entries, 0 to 49999\n",
      "Data columns (total 11 columns):\n",
      " #   Column                  Non-Null Count  Dtype  \n",
      "---  ------                  --------------  -----  \n",
      " 0   idade                   50000 non-null  float64\n",
      " 1   sexo                    49997 non-null  object \n",
      " 2   tempo_de_cliente        49998 non-null  float64\n",
      " 3   frequencia_uso          50000 non-null  float64\n",
      " 4   ligacoes_callcenter     50000 non-null  float64\n",
      " 5   dias_atraso             50000 non-null  float64\n",
      " 6   assinatura              50000 non-null  object \n",
      " 7   duracao_contrato        50000 non-null  object \n",
      " 8   total_gasto             50000 non-null  float64\n",
      " 9   meses_ultima_interacao  50000 non-null  float64\n",
      " 10  cancelou                50000 non-null  float64\n",
      "dtypes: float64(8), object(3)\n",
      "memory usage: 4.2+ MB\n"
     ]
    },
    {
     "data": {
      "text/plain": [
       "None"
      ]
     },
     "metadata": {},
     "output_type": "display_data"
    },
    {
     "name": "stdout",
     "output_type": "stream",
     "text": [
      "<class 'pandas.core.frame.DataFrame'>\n",
      "Index: 49996 entries, 0 to 49999\n",
      "Data columns (total 11 columns):\n",
      " #   Column                  Non-Null Count  Dtype  \n",
      "---  ------                  --------------  -----  \n",
      " 0   idade                   49996 non-null  float64\n",
      " 1   sexo                    49996 non-null  object \n",
      " 2   tempo_de_cliente        49996 non-null  float64\n",
      " 3   frequencia_uso          49996 non-null  float64\n",
      " 4   ligacoes_callcenter     49996 non-null  float64\n",
      " 5   dias_atraso             49996 non-null  float64\n",
      " 6   assinatura              49996 non-null  object \n",
      " 7   duracao_contrato        49996 non-null  object \n",
      " 8   total_gasto             49996 non-null  float64\n",
      " 9   meses_ultima_interacao  49996 non-null  float64\n",
      " 10  cancelou                49996 non-null  float64\n",
      "dtypes: float64(8), object(3)\n",
      "memory usage: 4.6+ MB\n"
     ]
    },
    {
     "data": {
      "text/plain": [
       "None"
      ]
     },
     "metadata": {},
     "output_type": "display_data"
    }
   ],
   "source": [
    "# Passo 3: Corrigir as cagadas da base de dados\n",
    "display(tabela.info())\n",
    "\n",
    "# Valores vazios - excluir as linhas que têm valores vazios\n",
    "tabela = tabela.dropna()\n",
    "\n",
    "display(tabela.info())"
   ]
  },
  {
   "cell_type": "code",
   "execution_count": 14,
   "metadata": {},
   "outputs": [
    {
     "data": {
      "text/plain": [
       "cancelou\n",
       "1.0    28393\n",
       "0.0    21603\n",
       "Name: count, dtype: int64"
      ]
     },
     "metadata": {},
     "output_type": "display_data"
    },
    {
     "data": {
      "text/plain": [
       "cancelou\n",
       "1.0    0.567905\n",
       "0.0    0.432095\n",
       "Name: proportion, dtype: float64"
      ]
     },
     "metadata": {},
     "output_type": "display_data"
    },
    {
     "data": {
      "text/plain": [
       "cancelou\n",
       "1.0    56.8%\n",
       "0.0    43.2%\n",
       "Name: proportion, dtype: object"
      ]
     },
     "metadata": {},
     "output_type": "display_data"
    }
   ],
   "source": [
    "# Passo 4: Análise inicial dos cancelamentos\n",
    "\n",
    "# quantas pessoas cancelaram e quantas não cancelaram\n",
    "display(tabela[\"cancelou\"].value_counts())\n",
    "\n",
    "# em percentual\n",
    "display(tabela[\"cancelou\"].value_counts(normalize=True))\n",
    "display(tabela[\"cancelou\"].value_counts(normalize=True).map(\"{:.1%}\".format))"
   ]
  },
  {
   "cell_type": "code",
   "execution_count": null,
   "metadata": {},
   "outputs": [
    {
     "ename": "ModuleNotFoundError",
     "evalue": "No module named 'plotly'",
     "output_type": "error",
     "traceback": [
      "\u001b[31m---------------------------------------------------------------------------\u001b[39m",
      "\u001b[31mModuleNotFoundError\u001b[39m                       Traceback (most recent call last)",
      "\u001b[36mCell\u001b[39m\u001b[36m \u001b[39m\u001b[32mIn[2]\u001b[39m\u001b[32m, line 4\u001b[39m\n\u001b[32m      1\u001b[39m \u001b[38;5;66;03m# Passo 5: Análise das causas dos cancelamentos (como as colunas da base impactam no cancelamento)\u001b[39;00m\n\u001b[32m      2\u001b[39m \u001b[38;5;66;03m# gráficos/dashboards\u001b[39;00m\n\u001b[32m      3\u001b[39m \u001b[38;5;66;03m# !pip install plotly\u001b[39;00m\n\u001b[32m----> \u001b[39m\u001b[32m4\u001b[39m \u001b[38;5;28;01mimport\u001b[39;00m\u001b[38;5;250m \u001b[39m\u001b[34;01mplotly\u001b[39;00m\u001b[34;01m.\u001b[39;00m\u001b[34;01mexpress\u001b[39;00m\u001b[38;5;250m \u001b[39m\u001b[38;5;28;01mas\u001b[39;00m\u001b[38;5;250m \u001b[39m\u001b[34;01mpx\u001b[39;00m\n\u001b[32m      6\u001b[39m \u001b[38;5;66;03m# criar o grafico\u001b[39;00m\n\u001b[32m      8\u001b[39m \u001b[38;5;28;01mfor\u001b[39;00m coluna \u001b[38;5;129;01min\u001b[39;00m tabela.columns:\n",
      "\u001b[31mModuleNotFoundError\u001b[39m: No module named 'plotly'"
     ]
    }
   ],
   "source": [
    "# Passo 5: Análise das causas dos cancelamentos (como as colunas da base impactam no cancelamento)\n",
    "# gráficos/dashboards\n",
    "!pip install plotly\n",
    "import plotly.express as px\n",
    "\n",
    "# criar o grafico\n",
    "\n",
    "for coluna in tabela.columns:\n",
    "    grafico = px.histogram(tabela, x=coluna, color=\"cancelou\")\n",
    "    # exibir o grafico\n",
    "    grafico.show()"
   ]
  },
  {
   "cell_type": "code",
   "execution_count": 30,
   "metadata": {},
   "outputs": [
    {
     "data": {
      "text/plain": [
       "cancelou\n",
       "0.0    21446\n",
       "1.0     4821\n",
       "Name: count, dtype: int64"
      ]
     },
     "metadata": {},
     "output_type": "display_data"
    },
    {
     "data": {
      "text/plain": [
       "cancelou\n",
       "0.0    0.816462\n",
       "1.0    0.183538\n",
       "Name: proportion, dtype: float64"
      ]
     },
     "metadata": {},
     "output_type": "display_data"
    }
   ],
   "source": [
    "# clientes do contrato mensal TODOS cancelam\n",
    "    # ofercer desconto nos planos anuais e trimestrais\n",
    "# clientes que ligam mais do que 4 vezes para o call center, cancelam\n",
    "    # criar um processo para resolver o problema do cliente em no máximo 3 ligações\n",
    "# clientes que atrasaram mais de 20 dias, cancelaram\n",
    "    # política de resolver atrasos em até 10 dias (equipe financeira)\n",
    "\n",
    "tabela = tabela[tabela[\"duracao_contrato\"]!=\"Monthly\"]\n",
    "tabela = tabela[tabela[\"ligacoes_callcenter\"]<=4]\n",
    "tabela = tabela[tabela[\"dias_atraso\"]<=20]\n",
    "\n",
    "display(tabela[\"cancelou\"].value_counts())\n",
    "# em percentual\n",
    "display(tabela[\"cancelou\"].value_counts(normalize=True))\n"
   ]
  },
  {
   "cell_type": "code",
   "execution_count": 2,
   "metadata": {},
   "outputs": [
    {
     "name": "stdout",
     "output_type": "stream",
     "text": [
      "Requirement already satisfied: nbformat in c:\\users\\joaol\\anaconda3\\lib\\site-packages (5.7.0)\n",
      "Collecting nbformat\n",
      "  Downloading nbformat-5.9.2-py3-none-any.whl (77 kB)\n",
      "     ---------------------------------------- 77.6/77.6 kB ? eta 0:00:00\n",
      "Requirement already satisfied: jupyter-core in c:\\users\\joaol\\anaconda3\\lib\\site-packages (from nbformat) (5.2.0)\n",
      "Requirement already satisfied: traitlets>=5.1 in c:\\users\\joaol\\anaconda3\\lib\\site-packages (from nbformat) (5.7.1)\n",
      "Requirement already satisfied: fastjsonschema in c:\\users\\joaol\\anaconda3\\lib\\site-packages (from nbformat) (2.16.2)\n",
      "Requirement already satisfied: jsonschema>=2.6 in c:\\users\\joaol\\anaconda3\\lib\\site-packages (from nbformat) (4.17.3)\n",
      "Requirement already satisfied: pyrsistent!=0.17.0,!=0.17.1,!=0.17.2,>=0.14.0 in c:\\users\\joaol\\anaconda3\\lib\\site-packages (from jsonschema>=2.6->nbformat) (0.18.0)\n",
      "Requirement already satisfied: attrs>=17.4.0 in c:\\users\\joaol\\anaconda3\\lib\\site-packages (from jsonschema>=2.6->nbformat) (22.1.0)\n",
      "Requirement already satisfied: platformdirs>=2.5 in c:\\users\\joaol\\anaconda3\\lib\\site-packages (from jupyter-core->nbformat) (2.5.2)\n",
      "Requirement already satisfied: pywin32>=1.0 in c:\\users\\joaol\\anaconda3\\lib\\site-packages (from jupyter-core->nbformat) (305.1)\n",
      "Installing collected packages: nbformat\n",
      "  Attempting uninstall: nbformat\n",
      "    Found existing installation: nbformat 5.7.0\n",
      "    Uninstalling nbformat-5.7.0:\n",
      "      Successfully uninstalled nbformat-5.7.0\n",
      "Successfully installed nbformat-5.9.2\n"
     ]
    },
    {
     "name": "stderr",
     "output_type": "stream",
     "text": [
      "ERROR: pip's dependency resolver does not currently take into account all the packages that are installed. This behaviour is the source of the following dependency conflicts.\n",
      "conda-repo-cli 1.0.41 requires requests_mock, which is not installed.\n",
      "conda-repo-cli 1.0.41 requires clyent==1.2.1, but you have clyent 1.2.2 which is incompatible.\n",
      "conda-repo-cli 1.0.41 requires nbformat==5.4.0, but you have nbformat 5.9.2 which is incompatible.\n",
      "conda-repo-cli 1.0.41 requires requests==2.28.1, but you have requests 2.31.0 which is incompatible.\n"
     ]
    }
   ],
   "source": [
    "# !pip install nbformat --upgrade"
   ]
  }
 ],
 "metadata": {
  "kernelspec": {
   "display_name": ".venv",
   "language": "python",
   "name": "python3"
  },
  "language_info": {
   "codemirror_mode": {
    "name": "ipython",
    "version": 3
   },
   "file_extension": ".py",
   "mimetype": "text/x-python",
   "name": "python",
   "nbconvert_exporter": "python",
   "pygments_lexer": "ipython3",
   "version": "3.11.9"
  },
  "orig_nbformat": 4
 },
 "nbformat": 4,
 "nbformat_minor": 2
}
